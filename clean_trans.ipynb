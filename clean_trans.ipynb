{
 "cells": [
  {
   "cell_type": "code",
   "execution_count": 1,
   "id": "63407a4b-7db0-4ec5-88c8-299b1d2449ec",
   "metadata": {},
   "outputs": [
    {
     "name": "stdout",
     "output_type": "stream",
     "text": [
      "Text cleaned and saved to cleaned_output.txt\n"
     ]
    }
   ],
   "source": [
    "import re\n",
    "\n",
    "# Define the regular expression to match characters to ignore\n",
    "chars_to_ignore_regex = r'[\\,\\?\\.\\!\\-\\;\\:\\\"\\“\\%\\‘\\”\\�\\^\\_\\=\\+\\*\\²\\|\\]\\]\\—\\¾\\&\\£\\½\\ł]'\n",
    "\n",
    "def clean_text(text):\n",
    "    cleaned_text = re.sub(chars_to_ignore_regex, '', text)\n",
    "    return cleaned_text\n",
    "\n",
    "def main():\n",
    "    input_file_path = 'transcript.txt'\n",
    "    output_file_path = 'cleaned_output.txt'\n",
    "\n",
    "    try:\n",
    "        with open(input_file_path, 'r', encoding='utf-8') as input_file:\n",
    "            text = input_file.read()\n",
    "            cleaned_text = clean_text(text)\n",
    "\n",
    "        with open(output_file_path, 'w', encoding='utf-8') as output_file:\n",
    "            output_file.write(cleaned_text)\n",
    "\n",
    "        print(\"Text cleaned and saved to\", output_file_path)\n",
    "\n",
    "    except FileNotFoundError:\n",
    "        print(\"Input file not found.\")\n",
    "    except Exception as e:\n",
    "        print(\"An error occurred:\", str(e))\n",
    "\n",
    "if __name__ == \"__main__\":\n",
    "    main()\n"
   ]
  },
  {
   "cell_type": "code",
   "execution_count": null,
   "id": "30eaaece-e5c9-4a07-81d0-fe665a4ba8db",
   "metadata": {},
   "outputs": [],
   "source": []
  }
 ],
 "metadata": {
  "kernelspec": {
   "display_name": "Python 3 (ipykernel)",
   "language": "python",
   "name": "python3"
  },
  "language_info": {
   "codemirror_mode": {
    "name": "ipython",
    "version": 3
   },
   "file_extension": ".py",
   "mimetype": "text/x-python",
   "name": "python",
   "nbconvert_exporter": "python",
   "pygments_lexer": "ipython3",
   "version": "3.8.10"
  }
 },
 "nbformat": 4,
 "nbformat_minor": 5
}
